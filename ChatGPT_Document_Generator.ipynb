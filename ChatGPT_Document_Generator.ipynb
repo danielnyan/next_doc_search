{
  "nbformat": 4,
  "nbformat_minor": 0,
  "metadata": {
    "colab": {
      "provenance": []
    },
    "kernelspec": {
      "name": "python3",
      "display_name": "Python 3"
    },
    "language_info": {
      "name": "python"
    }
  },
  "cells": [
    {
      "cell_type": "code",
      "source": [
        "# Ignore this if not running on Google Colab\n",
        "!pip install openai"
      ],
      "metadata": {
        "id": "XFSdDwCAvIFx",
        "colab": {
          "base_uri": "https://localhost:8080/"
        },
        "outputId": "10af4f4c-d741-467b-8e7c-5ed55b8fafee"
      },
      "execution_count": 1,
      "outputs": [
        {
          "output_type": "stream",
          "name": "stdout",
          "text": [
            "Collecting openai\n",
            "  Downloading openai-0.27.8-py3-none-any.whl (73 kB)\n",
            "\u001b[?25l     \u001b[90m━━━━━━━━━━━━━━━━━━━━━━━━━━━━━━━━━━━━━━━━\u001b[0m \u001b[32m0.0/73.6 kB\u001b[0m \u001b[31m?\u001b[0m eta \u001b[36m-:--:--\u001b[0m\r\u001b[2K     \u001b[90m━━━━━━━━━━━━━━━━━━━━━━━━━━━━━━━━━━━━━━━━\u001b[0m \u001b[32m73.6/73.6 kB\u001b[0m \u001b[31m2.3 MB/s\u001b[0m eta \u001b[36m0:00:00\u001b[0m\n",
            "\u001b[?25hRequirement already satisfied: requests>=2.20 in /usr/local/lib/python3.10/dist-packages (from openai) (2.31.0)\n",
            "Requirement already satisfied: tqdm in /usr/local/lib/python3.10/dist-packages (from openai) (4.66.0)\n",
            "Requirement already satisfied: aiohttp in /usr/local/lib/python3.10/dist-packages (from openai) (3.8.5)\n",
            "Requirement already satisfied: charset-normalizer<4,>=2 in /usr/local/lib/python3.10/dist-packages (from requests>=2.20->openai) (3.2.0)\n",
            "Requirement already satisfied: idna<4,>=2.5 in /usr/local/lib/python3.10/dist-packages (from requests>=2.20->openai) (3.4)\n",
            "Requirement already satisfied: urllib3<3,>=1.21.1 in /usr/local/lib/python3.10/dist-packages (from requests>=2.20->openai) (2.0.4)\n",
            "Requirement already satisfied: certifi>=2017.4.17 in /usr/local/lib/python3.10/dist-packages (from requests>=2.20->openai) (2023.7.22)\n",
            "Requirement already satisfied: attrs>=17.3.0 in /usr/local/lib/python3.10/dist-packages (from aiohttp->openai) (23.1.0)\n",
            "Requirement already satisfied: multidict<7.0,>=4.5 in /usr/local/lib/python3.10/dist-packages (from aiohttp->openai) (6.0.4)\n",
            "Requirement already satisfied: async-timeout<5.0,>=4.0.0a3 in /usr/local/lib/python3.10/dist-packages (from aiohttp->openai) (4.0.2)\n",
            "Requirement already satisfied: yarl<2.0,>=1.0 in /usr/local/lib/python3.10/dist-packages (from aiohttp->openai) (1.9.2)\n",
            "Requirement already satisfied: frozenlist>=1.1.1 in /usr/local/lib/python3.10/dist-packages (from aiohttp->openai) (1.4.0)\n",
            "Requirement already satisfied: aiosignal>=1.1.2 in /usr/local/lib/python3.10/dist-packages (from aiohttp->openai) (1.3.1)\n",
            "Installing collected packages: openai\n",
            "Successfully installed openai-0.27.8\n"
          ]
        }
      ]
    },
    {
      "cell_type": "code",
      "source": [
        "import os\n",
        "import openai\n",
        "import pandas as pd\n",
        "from tenacity import (\n",
        "    retry,\n",
        "    stop_after_attempt,\n",
        "    wait_random_exponential,\n",
        ")  # for exponential backoff (to overcome rate limit)\n",
        "\n",
        "import json\n",
        "import time\n",
        "\n",
        "import numpy as np"
      ],
      "metadata": {
        "id": "hnlNKZ9qjcUk"
      },
      "execution_count": 31,
      "outputs": []
    },
    {
      "cell_type": "code",
      "execution_count": 6,
      "metadata": {
        "id": "uULzAQBfbuF-"
      },
      "outputs": [],
      "source": [
        "openai.api_key = \"REDACTED\""
      ]
    },
    {
      "cell_type": "code",
      "source": [
        "#Exponential backoff decorator\n",
        "@retry(wait=wait_random_exponential(min=10, max=80), stop=stop_after_attempt(10))\n",
        "def completion_with_backoff(**kwargs):\n",
        "    return openai.ChatCompletion.create(**kwargs)\n",
        "\n",
        "@retry(wait=wait_random_exponential(min=10, max=80), stop=stop_after_attempt(10))\n",
        "def create_embeddings(input):\n",
        "  response = openai.Embedding.create(\n",
        "      input = input, model = \"text-embedding-ada-002\"\n",
        "  )\n",
        "  return json.dumps(response.data[0][\"embedding\"])"
      ],
      "metadata": {
        "id": "aNkxSPPKuq7P"
      },
      "execution_count": 7,
      "outputs": []
    },
    {
      "cell_type": "markdown",
      "source": [
        "# Create embeddings for processed docs"
      ],
      "metadata": {
        "id": "gI1GqmO2zEvU"
      }
    },
    {
      "cell_type": "code",
      "source": [
        "rows = []\n",
        "for filename in os.listdir(\"docs\"):\n",
        "  contents = open(\"docs/\" + filename).read()\n",
        "  documents = contents.split(\"##\")\n",
        "  for document in documents:\n",
        "    rows.append([filename, document, create_embeddings(document)])"
      ],
      "metadata": {
        "id": "PyW8-1VdwpWu"
      },
      "execution_count": 9,
      "outputs": []
    },
    {
      "cell_type": "code",
      "source": [
        "df1 = pd.DataFrame(rows, columns=[\"filename\", \"content\", \"embedding\"])\n",
        "df1.to_csv(\"docs_embeddings.csv\")"
      ],
      "metadata": {
        "id": "ZCIjgkjqxoVl"
      },
      "execution_count": 10,
      "outputs": []
    },
    {
      "cell_type": "markdown",
      "source": [
        "# Create embeddings for raw files"
      ],
      "metadata": {
        "id": "CJUvnswFztUD"
      }
    },
    {
      "cell_type": "code",
      "source": [
        "main_df = pd.DataFrame()\n",
        "\n",
        "for filename in os.listdir(\"raw files\"):\n",
        "  df = pd.read_csv(\"raw files/\" + filename)\n",
        "  df = df.rename(columns={\"Text\":\"Content\", \"Summary\":\"Content\"})\n",
        "  if \"Questions\" in df.columns:\n",
        "    df[\"Content\"] = df[\"Questions\"] + \"\\n\" + df[\"answers\"]\n",
        "    df = df.drop([\"Questions\", \"answers\"], axis=1)\n",
        "  if \"Chapter\" in df.columns:\n",
        "    df[\"Title\"] = df[\"Chapter\"] + \" \" + df[\"Subheader1\"] + \" \" + df[\"Subheader2\"]\n",
        "    df = df.drop([\"Chapter\", \"Subheader1\", \"Subheader2\"], axis=1)\n",
        "  if \"Unnamed: 0\" in df.columns:\n",
        "    df = df.drop([\"Unnamed: 0\"], axis=1)\n",
        "  main_df = pd.concat([main_df, df])"
      ],
      "metadata": {
        "id": "bbCrZNzXwBDM"
      },
      "execution_count": 11,
      "outputs": []
    },
    {
      "cell_type": "code",
      "source": [
        "main_df[\"embedding\"] = main_df[\"Content\"].apply(create_embeddings)"
      ],
      "metadata": {
        "id": "J5L9EgCavtNR"
      },
      "execution_count": 12,
      "outputs": []
    },
    {
      "cell_type": "code",
      "source": [
        "main_df.to_csv(\"raw_embeddings.csv\")"
      ],
      "metadata": {
        "id": "yy-5zSi1vt6H"
      },
      "execution_count": 13,
      "outputs": []
    },
    {
      "cell_type": "markdown",
      "source": [
        "# Find most probable source"
      ],
      "metadata": {
        "id": "_AOI36QseLzr"
      }
    },
    {
      "cell_type": "code",
      "source": [
        "doc_df = pd.read_csv(\"docs_embeddings.csv\")\n",
        "raw_df = pd.read_csv(\"raw_embeddings.csv\")\n",
        "\n",
        "doc_df[\"content\"] = doc_df[\"content\"].str.strip()\n",
        "doc_df[\"embedding\"] = doc_df[\"embedding\"].apply(json.loads)\n",
        "raw_df[\"embedding\"] = raw_df[\"embedding\"].apply(json.loads)"
      ],
      "metadata": {
        "id": "abLfS8C-f72L"
      },
      "execution_count": 26,
      "outputs": []
    },
    {
      "cell_type": "code",
      "source": [
        "doc_embeddings_full = np.matrix(doc_df[\"embedding\"].to_list())"
      ],
      "metadata": {
        "id": "OImcuqnehLlS"
      },
      "execution_count": 41,
      "outputs": []
    },
    {
      "cell_type": "code",
      "source": [
        "raw_embeddings_full = np.matrix(raw_df[\"embedding\"].to_list())"
      ],
      "metadata": {
        "id": "Evf-5zHe7QU7"
      },
      "execution_count": 36,
      "outputs": []
    },
    {
      "cell_type": "code",
      "source": [
        "similarities = doc_embeddings_full @ raw_embeddings_full.T"
      ],
      "metadata": {
        "id": "MxIKSNO3hTLz"
      },
      "execution_count": 45,
      "outputs": []
    },
    {
      "cell_type": "code",
      "source": [
        "best_match_indices = np.argmax(similarities, axis=1)\n",
        "best_match_indices = [best_match_indices[i,0] for i in range(len(best_match_indices))]"
      ],
      "metadata": {
        "id": "XpRZzee4hdgg"
      },
      "execution_count": 78,
      "outputs": []
    },
    {
      "cell_type": "code",
      "source": [
        "doc_df[\"Title\"] = [raw_df[\"Title\"][i] for i in best_match_indices]"
      ],
      "metadata": {
        "id": "a0ck64vRhkp4"
      },
      "execution_count": 80,
      "outputs": []
    },
    {
      "cell_type": "code",
      "source": [
        "def clean_ema_title(x):\n",
        "  if \"EMA: b'\" in x:\n",
        "    return \"EMA: \" + x[7:-1]\n",
        "  return x\n",
        "\n",
        "doc_df[\"Title\"] = doc_df[\"Title\"].apply(clean_ema_title)"
      ],
      "metadata": {
        "id": "VnEwtKiShl-A"
      },
      "execution_count": 87,
      "outputs": []
    },
    {
      "cell_type": "markdown",
      "source": [
        "# Merge in URL if missing"
      ],
      "metadata": {
        "id": "aC2Qwa14lClH"
      }
    },
    {
      "cell_type": "code",
      "source": [
        "raw_df[\"Title\"] = raw_df[\"Title\"].apply(clean_ema_title)\n",
        "title_map = pd.merge(doc_df[\"Title\"], raw_df[[\"Title\", \"URL\", \"Date\"]], how=\"left\").sort_values([\"Title\", \"URL\"])"
      ],
      "metadata": {
        "id": "MwIjjOw0lEQK"
      },
      "execution_count": 135,
      "outputs": []
    },
    {
      "cell_type": "code",
      "source": [
        "title_map = title_map.drop_duplicates(subset=\"Title\")\n",
        "# Replaces likely chapters in the Solar PV Handbook with this URL\n",
        "title_map.loc[title_map[\"Title\"].str.contains(\"\\|\") | title_map[\"Title\"].str.contains(\"An Overview\"), \"URL\"] = \"https://www1.bca.gov.sg/docs/default-source/docs-corp-news-and-publications/publications/for-industry/handbook_for_solar_pv_systems_edited_copy.pdf\""
      ],
      "metadata": {
        "colab": {
          "base_uri": "https://localhost:8080/"
        },
        "id": "4W01U6SHiRoT",
        "outputId": "a5eae898-1aff-4816-c6ba-bdf6dcbef01b"
      },
      "execution_count": 136,
      "outputs": [
        {
          "output_type": "stream",
          "name": "stderr",
          "text": [
            "<ipython-input-136-10f91095558b>:3: SettingWithCopyWarning: \n",
            "A value is trying to be set on a copy of a slice from a DataFrame\n",
            "\n",
            "See the caveats in the documentation: https://pandas.pydata.org/pandas-docs/stable/user_guide/indexing.html#returning-a-view-versus-a-copy\n",
            "  title_map.loc[title_map[\"Title\"].str.contains(\"\\|\") | title_map[\"Title\"].str.contains(\"An Overview\"), \"URL\"] = \"https://www1.bca.gov.sg/docs/default-source/docs-corp-news-and-publications/publications/for-industry/handbook_for_solar_pv_systems_edited_copy.pdf\"\n"
          ]
        }
      ]
    },
    {
      "cell_type": "code",
      "source": [
        "from bs4 import BeautifulSoup\n",
        "import requests\n",
        "\n",
        "def get_url(search):\n",
        "  url = 'https://www.google.com.sg/search'\n",
        "\n",
        "  headers = {\n",
        "    'Accept' : '*/*',\n",
        "    'Accept-Language': 'en-US,en;q=0.5',\n",
        "    'User-Agent': 'Mozilla/5.0 (Windows NT 10.0; Win64; x64) AppleWebKit/537.36 (KHTML, like Gecko) Chrome/98.0.4758.82',\n",
        "  }\n",
        "  parameters = {'q': \"singapore \" + search}\n",
        "\n",
        "  content = requests.get(url, headers = headers, params = parameters).text\n",
        "  soup = BeautifulSoup(content, 'html.parser')\n",
        "\n",
        "  search = soup.find(id = 'search')\n",
        "  first_link = search.find('a')\n",
        "\n",
        "  return first_link['href']"
      ],
      "metadata": {
        "id": "ki8N93pjiYbb"
      },
      "execution_count": 137,
      "outputs": []
    },
    {
      "cell_type": "code",
      "source": [
        "title_map.loc[title_map[\"URL\"].isna(), \"URL\"] = title_map.loc[title_map[\"URL\"].isna(), \"Title\"].apply(lambda x: get_url(x))"
      ],
      "metadata": {
        "id": "ilvYT7wgmSVF"
      },
      "execution_count": 138,
      "outputs": []
    },
    {
      "cell_type": "code",
      "source": [
        "title_map.to_csv(\"title_maps.csv\")"
      ],
      "metadata": {
        "id": "KbTNXqbRmjDu"
      },
      "execution_count": 139,
      "outputs": []
    },
    {
      "cell_type": "markdown",
      "source": [
        "# Merge in URLs"
      ],
      "metadata": {
        "id": "bqeoYxvHoh_n"
      }
    },
    {
      "cell_type": "code",
      "source": [
        "final_df = pd.merge(doc_df, title_map)"
      ],
      "metadata": {
        "id": "GS_WYVzcokAh"
      },
      "execution_count": 142,
      "outputs": []
    },
    {
      "cell_type": "code",
      "source": [
        "with open(\"ema_knowledge.mdx\", \"w\") as f:\n",
        "  for _, row in final_df.iterrows():\n",
        "    if \"#\" in row[\"content\"]:\n",
        "      continue\n",
        "    f.write(\"## [{}]({})  \\n\".format(row[\"Title\"], row[\"URL\"]))\n",
        "    f.write(row[\"content\"])\n",
        "    f.write(\"\\n\\n\")"
      ],
      "metadata": {
        "id": "yV1ablxspgsR"
      },
      "execution_count": 144,
      "outputs": []
    },
    {
      "cell_type": "code",
      "source": [],
      "metadata": {
        "id": "bqTHVB6wpmk-"
      },
      "execution_count": null,
      "outputs": []
    }
  ]
}